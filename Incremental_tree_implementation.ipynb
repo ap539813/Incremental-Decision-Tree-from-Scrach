{
 "cells": [
  {
   "cell_type": "code",
   "execution_count": 83,
   "metadata": {},
   "outputs": [],
   "source": [
    "import numpy as np\n",
    "import pandas as pd\n",
    "import logging\n",
    "import math\n"
   ]
  },
  {
   "cell_type": "code",
   "execution_count": 7,
   "metadata": {},
   "outputs": [
    {
     "data": {
      "text/html": [
       "<div>\n",
       "<style scoped>\n",
       "    .dataframe tbody tr th:only-of-type {\n",
       "        vertical-align: middle;\n",
       "    }\n",
       "\n",
       "    .dataframe tbody tr th {\n",
       "        vertical-align: top;\n",
       "    }\n",
       "\n",
       "    .dataframe thead th {\n",
       "        text-align: right;\n",
       "    }\n",
       "</style>\n",
       "<table border=\"1\" class=\"dataframe\">\n",
       "  <thead>\n",
       "    <tr style=\"text-align: right;\">\n",
       "      <th></th>\n",
       "      <th>class</th>\n",
       "      <th>height</th>\n",
       "      <th>hair</th>\n",
       "      <th>eyes</th>\n",
       "    </tr>\n",
       "  </thead>\n",
       "  <tbody>\n",
       "    <tr>\n",
       "      <th>0</th>\n",
       "      <td>-</td>\n",
       "      <td>short</td>\n",
       "      <td>blond</td>\n",
       "      <td>brown</td>\n",
       "    </tr>\n",
       "    <tr>\n",
       "      <th>1</th>\n",
       "      <td>-</td>\n",
       "      <td>tall</td>\n",
       "      <td>dark</td>\n",
       "      <td>brown</td>\n",
       "    </tr>\n",
       "    <tr>\n",
       "      <th>2</th>\n",
       "      <td>+</td>\n",
       "      <td>tall</td>\n",
       "      <td>blond</td>\n",
       "      <td>blue</td>\n",
       "    </tr>\n",
       "    <tr>\n",
       "      <th>3</th>\n",
       "      <td>-</td>\n",
       "      <td>tall</td>\n",
       "      <td>dark</td>\n",
       "      <td>blue</td>\n",
       "    </tr>\n",
       "    <tr>\n",
       "      <th>4</th>\n",
       "      <td>-</td>\n",
       "      <td>short</td>\n",
       "      <td>dark</td>\n",
       "      <td>blue</td>\n",
       "    </tr>\n",
       "    <tr>\n",
       "      <th>5</th>\n",
       "      <td>+</td>\n",
       "      <td>tall</td>\n",
       "      <td>red</td>\n",
       "      <td>blue</td>\n",
       "    </tr>\n",
       "    <tr>\n",
       "      <th>6</th>\n",
       "      <td>-</td>\n",
       "      <td>tall</td>\n",
       "      <td>blond</td>\n",
       "      <td>brown</td>\n",
       "    </tr>\n",
       "    <tr>\n",
       "      <th>7</th>\n",
       "      <td>+</td>\n",
       "      <td>short</td>\n",
       "      <td>blond</td>\n",
       "      <td>blue</td>\n",
       "    </tr>\n",
       "  </tbody>\n",
       "</table>\n",
       "</div>"
      ],
      "text/plain": [
       "  class height   hair   eyes\n",
       "0     -  short  blond  brown\n",
       "1     -   tall   dark  brown\n",
       "2     +   tall  blond   blue\n",
       "3     -   tall   dark   blue\n",
       "4     -  short   dark   blue\n",
       "5     +   tall    red   blue\n",
       "6     -   tall  blond  brown\n",
       "7     +  short  blond   blue"
      ]
     },
     "execution_count": 7,
     "metadata": {},
     "output_type": "execute_result"
    }
   ],
   "source": [
    "arr_data = np.array([['-', 'short', 'blond', 'brown'],\n",
    "                 ['-', 'tall', 'dark', 'brown'],\n",
    "                 ['+', 'tall', 'blond', 'blue'],\n",
    "                 ['-', 'tall', 'dark', 'blue'],\n",
    "                 ['-', 'short', 'dark', 'blue'],\n",
    "                 ['+', 'tall', 'red', 'blue'],\n",
    "                 ['-', 'tall', 'blond', 'brown'],\n",
    "                 ['+', 'short', 'blond', 'blue']])\n",
    "\n",
    "\n",
    "data = pd.DataFrame(arr_data, columns = ['class', 'height', 'hair', 'eyes'])\n",
    "data"
   ]
  },
  {
   "cell_type": "code",
   "execution_count": 130,
   "metadata": {},
   "outputs": [],
   "source": [
    "class TreeNode:\n",
    "    def __init__(self, instance):\n",
    "        self.instances = instance\n",
    "        self.isleaf = True\n",
    "        self.class_labels = instance.iloc[:, 0].mode().iloc[0]\n",
    "        self.children = {}\n",
    "\n",
    "class color:\n",
    "    INFO = '\\033[94m'\n",
    "    WARNING = '\\033[91m'\n",
    "    BOLD = '\\033[1m'\n",
    "    END = '\\033[0m'\n",
    "\n",
    "class IncrementalDTree:\n",
    "    def __init__(self):\n",
    "        self.root = None\n",
    "\n",
    "\n",
    "    def predict(self, instance, current_node):\n",
    "        if current_node.isleaf == True:\n",
    "            return current_node\n",
    "\n",
    "        else:\n",
    "            split_attribute_val = instance[current_node.instances].iloc[0]\n",
    "            try:\n",
    "                return self.predict(instance.drop(current_node.instances, axis = 1), current_node.children[split_attribute_val])\n",
    "            except Exception as e:\n",
    "                print(e)\n",
    "                return 'bad'\n",
    "\n",
    "    def entropy(self, columns, data, target_attributes):\n",
    "        frequency = {}\n",
    "        entropy_data = 0.0\n",
    "        i = 0\n",
    "        for entry in columns:\n",
    "            if (target_attributes == entry):\n",
    "                break\n",
    "            i = i + 1\n",
    "        i = i - 1\n",
    "        for entry in data:\n",
    "            if (entry[i] in frequency.keys()):\n",
    "                frequency[entry[i]] += 1.0\n",
    "            else:\n",
    "                frequency[entry[i]]  = 1.0\n",
    "        for frequency in frequency.values():\n",
    "            entropy_data += (-frequency/len(data)) * math.log(frequency/len(data), 2)\n",
    "        return entropy_data\n",
    "\n",
    "    def informationGain(self, columns, data, attr, target_attributes):\n",
    "        frequency_of_desired_var = {}\n",
    "        subset_entropy = 0.0\n",
    "        i = columns.index(attr)\n",
    "\n",
    "        for entry in data:\n",
    "            if (entry[i] in frequency_of_desired_var.keys()):\n",
    "                frequency_of_desired_var[entry[i]] += 1.0\n",
    "            else:\n",
    "                frequency_of_desired_var[entry[i]]  = 1.0\n",
    "\n",
    "        for val in frequency_of_desired_var.keys():\n",
    "            valProb        = frequency_of_desired_var[val] / sum(frequency_of_desired_var.values())\n",
    "            dataSubset     = [entry for entry in data if entry[i] == val]\n",
    "            subset_entropy += valProb * self.entropy(columns, dataSubset, target_attributes)\n",
    "\n",
    "        return (self.entropy(columns, data, target_attributes) - subset_entropy)\n",
    "\n",
    "                    \n",
    "\n",
    "    def find_split(self, node):\n",
    "        columns = list(node.columns)\n",
    "        best = columns[0]\n",
    "        # And maximum information gain to be 0\n",
    "        maximim_gain = 0;\n",
    "\n",
    "        for attr in columns:\n",
    "            # For each columnn find out the information gain\n",
    "            new_info_gain = self.informationGain(columns, data, attr, columns[0])\n",
    "            # If the new information gain happens to be more than the current maximum\n",
    "            # Then update the current max info_gain with the new gain\n",
    "            if new_info_gain>maximim_gain:\n",
    "                maximim_gain = new_info_gain\n",
    "                best = attr\n",
    "\n",
    "\n",
    "        return best\n",
    "\n",
    "    def add_node(self, instance, current_node):\n",
    "        print(current_node.children)\n",
    "        if current_node.isleaf == True:\n",
    "            print('it was a leaf')\n",
    "            pass\n",
    "\n",
    "        else:\n",
    "            print('it was not a leaf')\n",
    "            split_attribute_val = instance[current_node.instances].iloc[0] \n",
    "            try:\n",
    "                print('Trying to add the nodes to the children:', split_attribute_val, instance)\n",
    "                self.add_node(instance.drop(current_node.instances, axis = 1), current_node.children[split_attribute_val])\n",
    "            except Exception as e:\n",
    "                print(e)\n",
    "                new_node = TreeNode(instance)\n",
    "                # print(split_attribute_val, new_node.instances)\n",
    "                current_node.children[split_attribute_val] = new_node\n",
    "\n",
    "\n",
    "\n",
    "    def split(self, node):\n",
    "        print(color.BOLD + color.INFO + f'[Info] Initializing the split of the conflicting node hence extending the tree...' + color.END)\n",
    "        split_feat = self.find_split(node.instances)\n",
    "        # print(split_feat)\n",
    "        # split_feat = node.instances.columns[split_feat]\n",
    "        if split_feat == None:\n",
    "            return node\n",
    "\n",
    "        else:\n",
    "            print(split_feat, '\\n', node.instances)\n",
    "            for val in node.instances[split_feat]:\n",
    "                temp_instances = node.instances.drop(split_feat, axis = 1)\n",
    "                new_node = TreeNode(temp_instances[node.instances[split_feat] == val])\n",
    "                node.children[val] = new_node\n",
    "            node.instances = split_feat\n",
    "            node.isleaf = False\n",
    "            # print(node.instances, node.children)\n",
    "            return node\n",
    "\n",
    "    def fit_instance(self, instance, label):\n",
    "        print(color.BOLD + color.INFO + f'[Info] Training with new instnce...' + color.END)\n",
    "        if self.root == None:\n",
    "            print(color.BOLD + color.INFO + f'[Info] Initiation of the tree, this the very first node...' + color.END)\n",
    "            new_node = TreeNode(instance)\n",
    "            self.root = new_node\n",
    "\n",
    "        elif self.root != None:\n",
    "            print(color.BOLD + color.INFO + f'[Info] Initiating the updation of the tree...' + color.END)\n",
    "            pred_node = self.predict(instance, self.root)\n",
    "            if pred_node != 'bad':\n",
    "                pred = pred_node.class_labels\n",
    "                if pred == label:\n",
    "                    # Could add the the instances to the node but skipping for now\n",
    "                    print(color.BOLD + color.INFO + f'[Info] This instance was classified correctly...' + color.END)\n",
    "                    pass\n",
    "                else:\n",
    "                    print(color.BOLD + color.INFO + f'[Info] Adding the instance to appropriate node...' + color.END)\n",
    "                    pred_node.instances = pd.concat([pred_node.instances, instance[pred_node.instances.columns]])\n",
    "                    pred_node = self.split(pred_node)\n",
    "                    # print(pred_node.instances, pred_node.children)\n",
    "                    # print(self.root.instances, self.root.children)\n",
    "            else:\n",
    "                print(self.root.children['tall'].children)\n",
    "                self.add_node(instance, self.root)\n",
    "                print(self.root.children['tall'].children)\n",
    "\n",
    "    def print_tree(self, current_node):\n",
    "        if current_node.isleaf == True:\n",
    "            print(current_node.class_labels, end = '\\t')\n",
    "        elif current_node.isleaf != True:\n",
    "            print(current_node.instances, end = '\\t')\n",
    "            for node in current_node.children:\n",
    "                self.print_tree(current_node.children[node])\n",
    "                print()\n",
    "\n",
    "                    \n",
    "\n",
    "\n",
    "                    \n",
    "\n",
    "            "
   ]
  },
  {
   "cell_type": "code",
   "execution_count": 131,
   "metadata": {},
   "outputs": [],
   "source": [
    "tree = IncrementalDTree()"
   ]
  },
  {
   "cell_type": "code",
   "execution_count": 132,
   "metadata": {},
   "outputs": [
    {
     "name": "stdout",
     "output_type": "stream",
     "text": [
      "\u001b[1m\u001b[94m[Info] Training with new instnce...\u001b[0m\n",
      "\u001b[1m\u001b[94m[Info] Initiation of the tree, this the very first node...\u001b[0m\n"
     ]
    }
   ],
   "source": [
    "tree.fit_instance(data.iloc[[0]], data.iloc[0, 0])"
   ]
  },
  {
   "cell_type": "code",
   "execution_count": 108,
   "metadata": {},
   "outputs": [
    {
     "name": "stdout",
     "output_type": "stream",
     "text": [
      "-\t"
     ]
    }
   ],
   "source": [
    "tree.print_tree(tree.root)"
   ]
  },
  {
   "cell_type": "code",
   "execution_count": 88,
   "metadata": {},
   "outputs": [
    {
     "name": "stdout",
     "output_type": "stream",
     "text": [
      "<__main__.TreeNode object at 0x11b565640>\n",
      "- -\n"
     ]
    }
   ],
   "source": [
    "tree.fit_instance(data.iloc[[1]], data.iloc[1, 0])"
   ]
  },
  {
   "cell_type": "code",
   "execution_count": 89,
   "metadata": {},
   "outputs": [
    {
     "data": {
      "text/plain": [
       "'-'"
      ]
     },
     "execution_count": 89,
     "metadata": {},
     "output_type": "execute_result"
    }
   ],
   "source": [
    "tree.predict(data.iloc[[1]], tree.root).class_labels"
   ]
  },
  {
   "cell_type": "code",
   "execution_count": 90,
   "metadata": {},
   "outputs": [
    {
     "name": "stdout",
     "output_type": "stream",
     "text": [
      "-\t"
     ]
    }
   ],
   "source": [
    "tree.print_tree(tree.root)"
   ]
  },
  {
   "cell_type": "code",
   "execution_count": 91,
   "metadata": {},
   "outputs": [
    {
     "name": "stdout",
     "output_type": "stream",
     "text": [
      "<__main__.TreeNode object at 0x11b565640>\n",
      "- +\n",
      "height \n",
      "   class height   hair   eyes\n",
      "0     -  short  blond  brown\n",
      "2     +   tall  blond   blue\n"
     ]
    }
   ],
   "source": [
    "tree.fit_instance(data.iloc[[2]], data.iloc[2, 0])"
   ]
  },
  {
   "cell_type": "code",
   "execution_count": 92,
   "metadata": {},
   "outputs": [
    {
     "name": "stdout",
     "output_type": "stream",
     "text": [
      "height\t-\t\n",
      "+\t\n"
     ]
    }
   ],
   "source": [
    "tree.print_tree(tree.root)"
   ]
  },
  {
   "cell_type": "code",
   "execution_count": 64,
   "metadata": {},
   "outputs": [
    {
     "name": "stdout",
     "output_type": "stream",
     "text": [
      "<__main__.TreeNode object at 0x11b59dbe0>\n",
      "+ -\n",
      "hair \n",
      "   class   hair  eyes\n",
      "2     +  blond  blue\n",
      "3     -   dark  blue\n"
     ]
    }
   ],
   "source": [
    "tree.fit_instance(data.iloc[[3]], data.iloc[3, 0])"
   ]
  },
  {
   "cell_type": "code",
   "execution_count": 65,
   "metadata": {},
   "outputs": [
    {
     "data": {
      "text/html": [
       "<div>\n",
       "<style scoped>\n",
       "    .dataframe tbody tr th:only-of-type {\n",
       "        vertical-align: middle;\n",
       "    }\n",
       "\n",
       "    .dataframe tbody tr th {\n",
       "        vertical-align: top;\n",
       "    }\n",
       "\n",
       "    .dataframe thead th {\n",
       "        text-align: right;\n",
       "    }\n",
       "</style>\n",
       "<table border=\"1\" class=\"dataframe\">\n",
       "  <thead>\n",
       "    <tr style=\"text-align: right;\">\n",
       "      <th></th>\n",
       "      <th>class</th>\n",
       "      <th>height</th>\n",
       "      <th>hair</th>\n",
       "      <th>eyes</th>\n",
       "    </tr>\n",
       "  </thead>\n",
       "  <tbody>\n",
       "    <tr>\n",
       "      <th>3</th>\n",
       "      <td>-</td>\n",
       "      <td>tall</td>\n",
       "      <td>dark</td>\n",
       "      <td>blue</td>\n",
       "    </tr>\n",
       "  </tbody>\n",
       "</table>\n",
       "</div>"
      ],
      "text/plain": [
       "  class height  hair  eyes\n",
       "3     -   tall  dark  blue"
      ]
     },
     "execution_count": 65,
     "metadata": {},
     "output_type": "execute_result"
    }
   ],
   "source": [
    "data.iloc[[3]]"
   ]
  },
  {
   "cell_type": "code",
   "execution_count": 66,
   "metadata": {},
   "outputs": [
    {
     "name": "stdout",
     "output_type": "stream",
     "text": [
      "height\t-\t\n",
      "hair\t+\t\n",
      "-\t\n",
      "\n"
     ]
    }
   ],
   "source": [
    "tree.print_tree(tree.root)"
   ]
  },
  {
   "cell_type": "code",
   "execution_count": 67,
   "metadata": {},
   "outputs": [
    {
     "data": {
      "text/plain": [
       "'height'"
      ]
     },
     "execution_count": 67,
     "metadata": {},
     "output_type": "execute_result"
    }
   ],
   "source": [
    "tree.root.instances"
   ]
  },
  {
   "cell_type": "code",
   "execution_count": 68,
   "metadata": {},
   "outputs": [
    {
     "data": {
      "text/plain": [
       "{'short': <__main__.TreeNode at 0x11b59d9a0>,\n",
       " 'tall': <__main__.TreeNode at 0x11b59dbe0>}"
      ]
     },
     "execution_count": 68,
     "metadata": {},
     "output_type": "execute_result"
    }
   ],
   "source": [
    "tree.root.children"
   ]
  },
  {
   "cell_type": "code",
   "execution_count": 69,
   "metadata": {},
   "outputs": [
    {
     "data": {
      "text/html": [
       "<div>\n",
       "<style scoped>\n",
       "    .dataframe tbody tr th:only-of-type {\n",
       "        vertical-align: middle;\n",
       "    }\n",
       "\n",
       "    .dataframe tbody tr th {\n",
       "        vertical-align: top;\n",
       "    }\n",
       "\n",
       "    .dataframe thead th {\n",
       "        text-align: right;\n",
       "    }\n",
       "</style>\n",
       "<table border=\"1\" class=\"dataframe\">\n",
       "  <thead>\n",
       "    <tr style=\"text-align: right;\">\n",
       "      <th></th>\n",
       "      <th>class</th>\n",
       "      <th>hair</th>\n",
       "      <th>eyes</th>\n",
       "    </tr>\n",
       "  </thead>\n",
       "  <tbody>\n",
       "    <tr>\n",
       "      <th>0</th>\n",
       "      <td>-</td>\n",
       "      <td>blond</td>\n",
       "      <td>brown</td>\n",
       "    </tr>\n",
       "  </tbody>\n",
       "</table>\n",
       "</div>"
      ],
      "text/plain": [
       "  class   hair   eyes\n",
       "0     -  blond  brown"
      ]
     },
     "execution_count": 69,
     "metadata": {},
     "output_type": "execute_result"
    }
   ],
   "source": [
    "tree.root.children['short'].instances"
   ]
  },
  {
   "cell_type": "code",
   "execution_count": 70,
   "metadata": {},
   "outputs": [
    {
     "data": {
      "text/plain": [
       "'hair'"
      ]
     },
     "execution_count": 70,
     "metadata": {},
     "output_type": "execute_result"
    }
   ],
   "source": [
    "tree.root.children['tall'].instances"
   ]
  },
  {
   "cell_type": "code",
   "execution_count": 71,
   "metadata": {},
   "outputs": [
    {
     "data": {
      "text/plain": [
       "'-'"
      ]
     },
     "execution_count": 71,
     "metadata": {},
     "output_type": "execute_result"
    }
   ],
   "source": [
    "tree.root.class_labels"
   ]
  },
  {
   "cell_type": "code",
   "execution_count": 72,
   "metadata": {},
   "outputs": [
    {
     "data": {
      "text/html": [
       "<div>\n",
       "<style scoped>\n",
       "    .dataframe tbody tr th:only-of-type {\n",
       "        vertical-align: middle;\n",
       "    }\n",
       "\n",
       "    .dataframe tbody tr th {\n",
       "        vertical-align: top;\n",
       "    }\n",
       "\n",
       "    .dataframe thead th {\n",
       "        text-align: right;\n",
       "    }\n",
       "</style>\n",
       "<table border=\"1\" class=\"dataframe\">\n",
       "  <thead>\n",
       "    <tr style=\"text-align: right;\">\n",
       "      <th></th>\n",
       "      <th>class</th>\n",
       "      <th>height</th>\n",
       "      <th>hair</th>\n",
       "      <th>eyes</th>\n",
       "    </tr>\n",
       "  </thead>\n",
       "  <tbody>\n",
       "    <tr>\n",
       "      <th>0</th>\n",
       "      <td>-</td>\n",
       "      <td>short</td>\n",
       "      <td>blond</td>\n",
       "      <td>brown</td>\n",
       "    </tr>\n",
       "    <tr>\n",
       "      <th>7</th>\n",
       "      <td>+</td>\n",
       "      <td>short</td>\n",
       "      <td>blond</td>\n",
       "      <td>blue</td>\n",
       "    </tr>\n",
       "  </tbody>\n",
       "</table>\n",
       "</div>"
      ],
      "text/plain": [
       "  class height   hair   eyes\n",
       "0     -  short  blond  brown\n",
       "7     +  short  blond   blue"
      ]
     },
     "execution_count": 72,
     "metadata": {},
     "output_type": "execute_result"
    }
   ],
   "source": [
    "pd.concat([data.iloc[[0]], data.iloc[[-1]]])"
   ]
  },
  {
   "cell_type": "code",
   "execution_count": 73,
   "metadata": {},
   "outputs": [
    {
     "data": {
      "text/plain": [
       "'-'"
      ]
     },
     "execution_count": 73,
     "metadata": {},
     "output_type": "execute_result"
    }
   ],
   "source": [
    "data.iloc[0].iloc[0]"
   ]
  },
  {
   "cell_type": "code",
   "execution_count": 74,
   "metadata": {},
   "outputs": [
    {
     "data": {
      "text/html": [
       "<div>\n",
       "<style scoped>\n",
       "    .dataframe tbody tr th:only-of-type {\n",
       "        vertical-align: middle;\n",
       "    }\n",
       "\n",
       "    .dataframe tbody tr th {\n",
       "        vertical-align: top;\n",
       "    }\n",
       "\n",
       "    .dataframe thead th {\n",
       "        text-align: right;\n",
       "    }\n",
       "</style>\n",
       "<table border=\"1\" class=\"dataframe\">\n",
       "  <thead>\n",
       "    <tr style=\"text-align: right;\">\n",
       "      <th></th>\n",
       "      <th>class</th>\n",
       "      <th>hair</th>\n",
       "      <th>eyes</th>\n",
       "    </tr>\n",
       "  </thead>\n",
       "  <tbody>\n",
       "    <tr>\n",
       "      <th>1</th>\n",
       "      <td>-</td>\n",
       "      <td>dark</td>\n",
       "      <td>brown</td>\n",
       "    </tr>\n",
       "    <tr>\n",
       "      <th>2</th>\n",
       "      <td>+</td>\n",
       "      <td>blond</td>\n",
       "      <td>blue</td>\n",
       "    </tr>\n",
       "    <tr>\n",
       "      <th>3</th>\n",
       "      <td>-</td>\n",
       "      <td>dark</td>\n",
       "      <td>blue</td>\n",
       "    </tr>\n",
       "    <tr>\n",
       "      <th>5</th>\n",
       "      <td>+</td>\n",
       "      <td>red</td>\n",
       "      <td>blue</td>\n",
       "    </tr>\n",
       "    <tr>\n",
       "      <th>6</th>\n",
       "      <td>-</td>\n",
       "      <td>blond</td>\n",
       "      <td>brown</td>\n",
       "    </tr>\n",
       "  </tbody>\n",
       "</table>\n",
       "</div>"
      ],
      "text/plain": [
       "  class   hair   eyes\n",
       "1     -   dark  brown\n",
       "2     +  blond   blue\n",
       "3     -   dark   blue\n",
       "5     +    red   blue\n",
       "6     -  blond  brown"
      ]
     },
     "execution_count": 74,
     "metadata": {},
     "output_type": "execute_result"
    }
   ],
   "source": [
    "temp_instances = data.drop('height', axis = 1)\n",
    "temp_instances[data['height'] == 'tall']"
   ]
  },
  {
   "cell_type": "code",
   "execution_count": 75,
   "metadata": {},
   "outputs": [
    {
     "name": "stdout",
     "output_type": "stream",
     "text": [
      "<__main__.TreeNode object at 0x11b4efac0>\n",
      "- -\n",
      "<__main__.TreeNode object at 0x11b4efac0>\n",
      "- +\n",
      "height \n",
      "   class height   hair   eyes\n",
      "0     -  short  blond  brown\n",
      "2     +   tall  blond   blue\n",
      "<__main__.TreeNode object at 0x11da6cf70>\n",
      "+ -\n",
      "hair \n",
      "   class   hair  eyes\n",
      "2     +  blond  blue\n",
      "3     -   dark  blue\n",
      "<__main__.TreeNode object at 0x11da6ca00>\n",
      "- -\n",
      "'red'\n",
      "bad\n",
      "{'blond': <__main__.TreeNode object at 0x11da6c2b0>, 'dark': <__main__.TreeNode object at 0x11da6c1f0>}\n",
      "{'short': <__main__.TreeNode object at 0x11da6ca00>, 'tall': <__main__.TreeNode object at 0x11da6cf70>}\n",
      "it was not a leaf\n",
      "Trying to add the nodes to the children: tall   class height hair  eyes\n",
      "5     +   tall  red  blue\n",
      "{'blond': <__main__.TreeNode object at 0x11da6c2b0>, 'dark': <__main__.TreeNode object at 0x11da6c1f0>}\n",
      "it was not a leaf\n",
      "Trying to add the nodes to the children: red   class hair  eyes\n",
      "5     +  red  blue\n",
      "'red'\n",
      "{'blond': <__main__.TreeNode object at 0x11da6c2b0>, 'dark': <__main__.TreeNode object at 0x11da6c1f0>, 'red': <__main__.TreeNode object at 0x11b565550>}\n",
      "<__main__.TreeNode object at 0x11da6c2b0>\n",
      "+ -\n",
      "eyes \n",
      "   class   eyes\n",
      "2     +   blue\n",
      "6     -  brown\n",
      "<__main__.TreeNode object at 0x11da6ca00>\n",
      "- +\n",
      "hair \n",
      "   class   hair   eyes\n",
      "0     -  blond  brown\n",
      "7     +  blond   blue\n"
     ]
    }
   ],
   "source": [
    "tree = IncrementalDTree()\n",
    "\n",
    "for i in range(data.shape[0]):\n",
    "    tree.fit_instance(data.iloc[[i]], data.iloc[i, 0])"
   ]
  },
  {
   "cell_type": "code",
   "execution_count": 76,
   "metadata": {},
   "outputs": [
    {
     "name": "stdout",
     "output_type": "stream",
     "text": [
      "height\thair\t+\t\n",
      "\n",
      "hair\teyes\t+\t\n",
      "-\t\n",
      "\n",
      "-\t\n",
      "+\t\n",
      "\n"
     ]
    }
   ],
   "source": [
    "tree.print_tree(tree.root)"
   ]
  },
  {
   "cell_type": "code",
   "execution_count": 77,
   "metadata": {},
   "outputs": [
    {
     "data": {
      "text/plain": [
       "'height'"
      ]
     },
     "execution_count": 77,
     "metadata": {},
     "output_type": "execute_result"
    }
   ],
   "source": [
    "tree.root.instances"
   ]
  },
  {
   "cell_type": "code",
   "execution_count": 78,
   "metadata": {},
   "outputs": [
    {
     "data": {
      "text/plain": [
       "{'short': <__main__.TreeNode at 0x11da6ca00>,\n",
       " 'tall': <__main__.TreeNode at 0x11da6cf70>}"
      ]
     },
     "execution_count": 78,
     "metadata": {},
     "output_type": "execute_result"
    }
   ],
   "source": [
    "tree.root.children"
   ]
  },
  {
   "cell_type": "code",
   "execution_count": 79,
   "metadata": {},
   "outputs": [
    {
     "data": {
      "text/plain": [
       "{'blond': <__main__.TreeNode at 0x11da6c400>}"
      ]
     },
     "execution_count": 79,
     "metadata": {},
     "output_type": "execute_result"
    }
   ],
   "source": [
    "tree.root.children['short'].children"
   ]
  },
  {
   "cell_type": "code",
   "execution_count": 80,
   "metadata": {},
   "outputs": [
    {
     "data": {
      "text/plain": [
       "{'blond': <__main__.TreeNode at 0x11da6c2b0>,\n",
       " 'dark': <__main__.TreeNode at 0x11da6c1f0>,\n",
       " 'red': <__main__.TreeNode at 0x11b565550>}"
      ]
     },
     "execution_count": 80,
     "metadata": {},
     "output_type": "execute_result"
    }
   ],
   "source": [
    "tree.root.children['tall'].children"
   ]
  },
  {
   "cell_type": "code",
   "execution_count": null,
   "metadata": {},
   "outputs": [],
   "source": []
  },
  {
   "cell_type": "code",
   "execution_count": 82,
   "metadata": {},
   "outputs": [
    {
     "name": "stdout",
     "output_type": "stream",
     "text": [
      "- +\n",
      "- -\n",
      "+ +\n",
      "- -\n",
      "'dark'\n"
     ]
    },
    {
     "ename": "AttributeError",
     "evalue": "'str' object has no attribute 'class_labels'",
     "output_type": "error",
     "traceback": [
      "\u001b[0;31m---------------------------------------------------------------------------\u001b[0m",
      "\u001b[0;31mAttributeError\u001b[0m                            Traceback (most recent call last)",
      "\u001b[0;32m<ipython-input-82-30dce8096b43>\u001b[0m in \u001b[0;36m<module>\u001b[0;34m\u001b[0m\n\u001b[1;32m      1\u001b[0m \u001b[0;32mfor\u001b[0m \u001b[0mi\u001b[0m \u001b[0;32min\u001b[0m \u001b[0mrange\u001b[0m\u001b[0;34m(\u001b[0m\u001b[0mdata\u001b[0m\u001b[0;34m.\u001b[0m\u001b[0mshape\u001b[0m\u001b[0;34m[\u001b[0m\u001b[0;36m0\u001b[0m\u001b[0;34m]\u001b[0m\u001b[0;34m)\u001b[0m\u001b[0;34m:\u001b[0m\u001b[0;34m\u001b[0m\u001b[0;34m\u001b[0m\u001b[0m\n\u001b[0;32m----> 2\u001b[0;31m     \u001b[0mprint\u001b[0m\u001b[0;34m(\u001b[0m\u001b[0mdata\u001b[0m\u001b[0;34m.\u001b[0m\u001b[0miloc\u001b[0m\u001b[0;34m[\u001b[0m\u001b[0mi\u001b[0m\u001b[0;34m,\u001b[0m \u001b[0;36m0\u001b[0m\u001b[0;34m]\u001b[0m\u001b[0;34m,\u001b[0m \u001b[0mtree\u001b[0m\u001b[0;34m.\u001b[0m\u001b[0mpredict\u001b[0m\u001b[0;34m(\u001b[0m\u001b[0mdata\u001b[0m\u001b[0;34m.\u001b[0m\u001b[0miloc\u001b[0m\u001b[0;34m[\u001b[0m\u001b[0;34m[\u001b[0m\u001b[0mi\u001b[0m\u001b[0;34m]\u001b[0m\u001b[0;34m]\u001b[0m\u001b[0;34m,\u001b[0m \u001b[0mtree\u001b[0m\u001b[0;34m.\u001b[0m\u001b[0mroot\u001b[0m\u001b[0;34m)\u001b[0m\u001b[0;34m.\u001b[0m\u001b[0mclass_labels\u001b[0m\u001b[0;34m)\u001b[0m\u001b[0;34m\u001b[0m\u001b[0;34m\u001b[0m\u001b[0m\n\u001b[0m",
      "\u001b[0;31mAttributeError\u001b[0m: 'str' object has no attribute 'class_labels'"
     ]
    }
   ],
   "source": [
    "for i in range(data.shape[0]):\n",
    "    print(data.iloc[i, 0], tree.predict(data.iloc[[i]], tree.root).class_labels)"
   ]
  },
  {
   "cell_type": "code",
   "execution_count": 447,
   "metadata": {},
   "outputs": [
    {
     "data": {
      "text/plain": [
       "'-'"
      ]
     },
     "execution_count": 447,
     "metadata": {},
     "output_type": "execute_result"
    }
   ],
   "source": [
    "data['class'].mode().iloc[0]"
   ]
  },
  {
   "cell_type": "code",
   "execution_count": null,
   "metadata": {},
   "outputs": [],
   "source": []
  }
 ],
 "metadata": {
  "interpreter": {
   "hash": "343986f8465ea7f501665066340a6e4a7b639b52c302955116ce941ba04487e2"
  },
  "kernelspec": {
   "display_name": "Python 3.9.7 64-bit ('tensorflow': conda)",
   "language": "python",
   "name": "python3"
  },
  "language_info": {
   "codemirror_mode": {
    "name": "ipython",
    "version": 3
   },
   "file_extension": ".py",
   "mimetype": "text/x-python",
   "name": "python",
   "nbconvert_exporter": "python",
   "pygments_lexer": "ipython3",
   "version": "3.9.7"
  },
  "orig_nbformat": 4
 },
 "nbformat": 4,
 "nbformat_minor": 2
}
