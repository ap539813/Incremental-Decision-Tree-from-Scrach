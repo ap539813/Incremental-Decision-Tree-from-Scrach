{
 "cells": [
  {
   "cell_type": "code",
   "execution_count": 359,
   "metadata": {},
   "outputs": [],
   "source": [
    "import numpy as np\n",
    "import pandas as pd\n",
    "import math\n"
   ]
  },
  {
   "cell_type": "code",
   "execution_count": 3,
   "metadata": {},
   "outputs": [
    {
     "data": {
      "text/html": [
       "<div>\n",
       "<style scoped>\n",
       "    .dataframe tbody tr th:only-of-type {\n",
       "        vertical-align: middle;\n",
       "    }\n",
       "\n",
       "    .dataframe tbody tr th {\n",
       "        vertical-align: top;\n",
       "    }\n",
       "\n",
       "    .dataframe thead th {\n",
       "        text-align: right;\n",
       "    }\n",
       "</style>\n",
       "<table border=\"1\" class=\"dataframe\">\n",
       "  <thead>\n",
       "    <tr style=\"text-align: right;\">\n",
       "      <th></th>\n",
       "      <th>class</th>\n",
       "      <th>height</th>\n",
       "      <th>hair</th>\n",
       "      <th>eyes</th>\n",
       "    </tr>\n",
       "  </thead>\n",
       "  <tbody>\n",
       "    <tr>\n",
       "      <th>0</th>\n",
       "      <td>-</td>\n",
       "      <td>short</td>\n",
       "      <td>blond</td>\n",
       "      <td>brown</td>\n",
       "    </tr>\n",
       "    <tr>\n",
       "      <th>1</th>\n",
       "      <td>-</td>\n",
       "      <td>tall</td>\n",
       "      <td>dark</td>\n",
       "      <td>brown</td>\n",
       "    </tr>\n",
       "    <tr>\n",
       "      <th>2</th>\n",
       "      <td>+</td>\n",
       "      <td>tall</td>\n",
       "      <td>blond</td>\n",
       "      <td>blue</td>\n",
       "    </tr>\n",
       "    <tr>\n",
       "      <th>3</th>\n",
       "      <td>-</td>\n",
       "      <td>tall</td>\n",
       "      <td>dark</td>\n",
       "      <td>blue</td>\n",
       "    </tr>\n",
       "    <tr>\n",
       "      <th>4</th>\n",
       "      <td>-</td>\n",
       "      <td>short</td>\n",
       "      <td>dark</td>\n",
       "      <td>blue</td>\n",
       "    </tr>\n",
       "    <tr>\n",
       "      <th>5</th>\n",
       "      <td>+</td>\n",
       "      <td>tall</td>\n",
       "      <td>red</td>\n",
       "      <td>blue</td>\n",
       "    </tr>\n",
       "    <tr>\n",
       "      <th>6</th>\n",
       "      <td>-</td>\n",
       "      <td>tall</td>\n",
       "      <td>blond</td>\n",
       "      <td>brown</td>\n",
       "    </tr>\n",
       "    <tr>\n",
       "      <th>7</th>\n",
       "      <td>+</td>\n",
       "      <td>short</td>\n",
       "      <td>blond</td>\n",
       "      <td>blue</td>\n",
       "    </tr>\n",
       "  </tbody>\n",
       "</table>\n",
       "</div>"
      ],
      "text/plain": [
       "  class height   hair   eyes\n",
       "0     -  short  blond  brown\n",
       "1     -   tall   dark  brown\n",
       "2     +   tall  blond   blue\n",
       "3     -   tall   dark   blue\n",
       "4     -  short   dark   blue\n",
       "5     +   tall    red   blue\n",
       "6     -   tall  blond  brown\n",
       "7     +  short  blond   blue"
      ]
     },
     "execution_count": 3,
     "metadata": {},
     "output_type": "execute_result"
    }
   ],
   "source": [
    "arr_data = np.array([['-', 'short', 'blond', 'brown'],\n",
    "                 ['-', 'tall', 'dark', 'brown'],\n",
    "                 ['+', 'tall', 'blond', 'blue'],\n",
    "                 ['-', 'tall', 'dark', 'blue'],\n",
    "                 ['-', 'short', 'dark', 'blue'],\n",
    "                 ['+', 'tall', 'red', 'blue'],\n",
    "                 ['-', 'tall', 'blond', 'brown'],\n",
    "                 ['+', 'short', 'blond', 'blue']])\n",
    "\n",
    "\n",
    "data = pd.DataFrame(arr_data, columns = ['class', 'height', 'hair', 'eyes'])\n",
    "data"
   ]
  },
  {
   "cell_type": "code",
   "execution_count": 632,
   "metadata": {},
   "outputs": [],
   "source": [
    "class TreeNode:\n",
    "    def __init__(self, instance):\n",
    "        self.instances = instance\n",
    "        self.isleaf = True\n",
    "        self.class_labels = instance.iloc[:, 0].mode().iloc[0]\n",
    "        self.children = {}\n",
    "\n",
    "\n",
    "\n",
    "class IncrementalDTree:\n",
    "    def __init__(self):\n",
    "        self.root = None\n",
    "\n",
    "\n",
    "    def predict(self, instance, current_node):\n",
    "        if current_node.isleaf == True:\n",
    "            return current_node\n",
    "\n",
    "        else:\n",
    "            split_attribute_val = instance[current_node.instances]\n",
    "            try:\n",
    "                return self.predict(instance.drop(current_node.instances, axis = 1), current_node.children[split_attribute_val])\n",
    "            except:\n",
    "                return 'bad'\n",
    "\n",
    "    def entropy(self, columns, data, target_attributes):\n",
    "        frequency = {}\n",
    "        entropy_data = 0.0\n",
    "        i = 0\n",
    "        for entry in columns:\n",
    "            if (target_attributes == entry):\n",
    "                break\n",
    "            i = i + 1\n",
    "        i = i - 1\n",
    "        for entry in data:\n",
    "            if (entry[i] in frequency.keys()):\n",
    "                frequency[entry[i]] += 1.0\n",
    "            else:\n",
    "                frequency[entry[i]]  = 1.0\n",
    "        for frequency in frequency.values():\n",
    "            entropy_data += (-frequency/len(data)) * math.log(frequency/len(data), 2)\n",
    "        return entropy_data\n",
    "\n",
    "    def informationGain(self, columns, data, attr, target_attributes):\n",
    "        frequency_of_desired_var = {}\n",
    "        subset_entropy = 0.0\n",
    "        i = columns.index(attr)\n",
    "\n",
    "        for entry in data:\n",
    "            if (entry[i] in frequency_of_desired_var.keys()):\n",
    "                frequency_of_desired_var[entry[i]] += 1.0\n",
    "            else:\n",
    "                frequency_of_desired_var[entry[i]]  = 1.0\n",
    "\n",
    "        for val in frequency_of_desired_var.keys():\n",
    "            valProb        = frequency_of_desired_var[val] / sum(frequency_of_desired_var.values())\n",
    "            dataSubset     = [entry for entry in data if entry[i] == val]\n",
    "            subset_entropy += valProb * self.entropy(columns, dataSubset, target_attributes)\n",
    "\n",
    "        return (self.entropy(columns, data, target_attributes) - subset_entropy)\n",
    "\n",
    "                    \n",
    "\n",
    "    def find_split(self, node):\n",
    "        columns = list(node.columns)\n",
    "        best = columns[0]\n",
    "        # And maximum information gain to be 0\n",
    "        maximim_gain = 0;\n",
    "\n",
    "        for attr in columns:\n",
    "            # For each columnn find out the information gain\n",
    "            new_info_gain = self.informationGain(columns, data, attr, columns[0])\n",
    "            # If the new information gain happens to be more than the current maximum\n",
    "            # Then update the current max info_gain with the new gain\n",
    "            if new_info_gain>maximim_gain:\n",
    "                maximim_gain = new_info_gain\n",
    "                best = attr\n",
    "\n",
    "\n",
    "        return best\n",
    "\n",
    "    def add_node(self, instance, current_node):\n",
    "        print(current_node.children)\n",
    "        if current_node.isleaf == True:\n",
    "            print('it was a leaf')\n",
    "            pass\n",
    "\n",
    "        else:\n",
    "            print('it was not a leaf')\n",
    "            split_attribute_val = instance[current_node.instances].iloc[0] \n",
    "            try:\n",
    "                print('Trying to add the nodes to the children:', split_attribute_val, instance)\n",
    "                self.add_node(instance.drop(current_node.instances, axis = 1), current_node.children[split_attribute_val])\n",
    "            except Exception as e:\n",
    "                print(e)\n",
    "                new_node = TreeNode(instance)\n",
    "                # print(split_attribute_val, new_node.instances)\n",
    "                current_node.children[split_attribute_val] = new_node\n",
    "\n",
    "\n",
    "\n",
    "    def split(self, node):\n",
    "        split_feat = self.find_split(node.instances)\n",
    "        # print(split_feat)\n",
    "        # split_feat = node.instances.columns[split_feat]\n",
    "        if split_feat == None:\n",
    "            return node\n",
    "\n",
    "        else:\n",
    "            print(split_feat, '\\n', node.instances)\n",
    "            for val in node.instances[split_feat]:\n",
    "                temp_instances = node.instances.drop(split_feat, axis = 1)\n",
    "                new_node = TreeNode(temp_instances[node.instances[split_feat] == val])\n",
    "                node.children[val] = new_node\n",
    "            node.instances = split_feat\n",
    "            node.isleaf = False\n",
    "            # print(node.instances, node.children)\n",
    "            return node\n",
    "\n",
    "    def fit_instance(self, instance, label):\n",
    "        if self.root == None:\n",
    "            new_node = TreeNode(instance)\n",
    "            self.root = new_node\n",
    "\n",
    "        elif self.root != None:\n",
    "            pred_node = self.predict(instance, self.root)\n",
    "            print(pred_node)\n",
    "            if pred_node != 'bad':\n",
    "                pred = pred_node.class_labels\n",
    "                print(pred, label)\n",
    "                if pred == label:\n",
    "                    # Could add the the instances to the node but skipping for now\n",
    "                    pass\n",
    "                else:\n",
    "                    pred_node.instances = pd.concat([pred_node.instances, instance[pred_node.instances.columns]])\n",
    "                    pred_node = self.split(pred_node)\n",
    "                    # print(pred_node.instances, pred_node.children)\n",
    "                    # print(self.root.instances, self.root.children)\n",
    "            else:\n",
    "                print(self.root.children['tall'].children)\n",
    "                self.add_node(instance, self.root)\n",
    "                print(self.root.children['tall'].children)\n",
    "\n",
    "    def print_tree(self, current_node):\n",
    "        if current_node.isleaf == True:\n",
    "            print(current_node.class_labels, end = '\\t')\n",
    "        elif current_node.isleaf != True:\n",
    "            print(current_node.instances, end = '\\t')\n",
    "            for node in current_node.children:\n",
    "                self.print_tree(current_node.children[node])\n",
    "                print()\n",
    "        # except Exception as e:\n",
    "        #     print(e)\n",
    "        #     print(current_node)\n",
    "                    \n",
    "\n",
    "\n",
    "                    \n",
    "\n",
    "            "
   ]
  },
  {
   "cell_type": "code",
   "execution_count": 633,
   "metadata": {},
   "outputs": [],
   "source": [
    "tree = IncrementalDTree()"
   ]
  },
  {
   "cell_type": "code",
   "execution_count": 634,
   "metadata": {},
   "outputs": [],
   "source": [
    "tree.fit_instance(data.iloc[[0]], data.iloc[0, 0])"
   ]
  },
  {
   "cell_type": "code",
   "execution_count": 635,
   "metadata": {},
   "outputs": [
    {
     "name": "stdout",
     "output_type": "stream",
     "text": [
      "-\t"
     ]
    }
   ],
   "source": [
    "tree.print_tree(tree.root)"
   ]
  },
  {
   "cell_type": "code",
   "execution_count": 636,
   "metadata": {},
   "outputs": [
    {
     "name": "stdout",
     "output_type": "stream",
     "text": [
      "<__main__.TreeNode object at 0x1177e0f10>\n",
      "- -\n"
     ]
    }
   ],
   "source": [
    "tree.fit_instance(data.iloc[[1]], data.iloc[1, 0])"
   ]
  },
  {
   "cell_type": "code",
   "execution_count": 637,
   "metadata": {},
   "outputs": [
    {
     "data": {
      "text/plain": [
       "'-'"
      ]
     },
     "execution_count": 637,
     "metadata": {},
     "output_type": "execute_result"
    }
   ],
   "source": [
    "tree.predict(data.iloc[[1]], tree.root).class_labels"
   ]
  },
  {
   "cell_type": "code",
   "execution_count": 638,
   "metadata": {},
   "outputs": [
    {
     "name": "stdout",
     "output_type": "stream",
     "text": [
      "-\t"
     ]
    }
   ],
   "source": [
    "tree.print_tree(tree.root)"
   ]
  },
  {
   "cell_type": "code",
   "execution_count": 639,
   "metadata": {},
   "outputs": [
    {
     "name": "stdout",
     "output_type": "stream",
     "text": [
      "<__main__.TreeNode object at 0x1177e0f10>\n",
      "- +\n",
      "height \n",
      "   class height   hair   eyes\n",
      "0     -  short  blond  brown\n",
      "2     +   tall  blond   blue\n"
     ]
    }
   ],
   "source": [
    "tree.fit_instance(data.iloc[[2]], data.iloc[2, 0])"
   ]
  },
  {
   "cell_type": "code",
   "execution_count": 640,
   "metadata": {},
   "outputs": [
    {
     "name": "stdout",
     "output_type": "stream",
     "text": [
      "height\t-\t\n",
      "+\t\n"
     ]
    }
   ],
   "source": [
    "tree.print_tree(tree.root)"
   ]
  },
  {
   "cell_type": "code",
   "execution_count": 641,
   "metadata": {},
   "outputs": [
    {
     "name": "stdout",
     "output_type": "stream",
     "text": [
      "bad\n",
      "{}\n",
      "{'short': <__main__.TreeNode object at 0x1177c1070>, 'tall': <__main__.TreeNode object at 0x1177c18b0>}\n",
      "it was not a leaf\n",
      "Trying to add the nodes to the children: tall   class height  hair  eyes\n",
      "3     -   tall  dark  blue\n",
      "{}\n",
      "it was a leaf\n",
      "{}\n"
     ]
    }
   ],
   "source": [
    "tree.fit_instance(data.iloc[[3]], data.iloc[3, 0])"
   ]
  },
  {
   "cell_type": "code",
   "execution_count": 642,
   "metadata": {},
   "outputs": [
    {
     "data": {
      "text/html": [
       "<div>\n",
       "<style scoped>\n",
       "    .dataframe tbody tr th:only-of-type {\n",
       "        vertical-align: middle;\n",
       "    }\n",
       "\n",
       "    .dataframe tbody tr th {\n",
       "        vertical-align: top;\n",
       "    }\n",
       "\n",
       "    .dataframe thead th {\n",
       "        text-align: right;\n",
       "    }\n",
       "</style>\n",
       "<table border=\"1\" class=\"dataframe\">\n",
       "  <thead>\n",
       "    <tr style=\"text-align: right;\">\n",
       "      <th></th>\n",
       "      <th>class</th>\n",
       "      <th>height</th>\n",
       "      <th>hair</th>\n",
       "      <th>eyes</th>\n",
       "    </tr>\n",
       "  </thead>\n",
       "  <tbody>\n",
       "    <tr>\n",
       "      <th>3</th>\n",
       "      <td>-</td>\n",
       "      <td>tall</td>\n",
       "      <td>dark</td>\n",
       "      <td>blue</td>\n",
       "    </tr>\n",
       "  </tbody>\n",
       "</table>\n",
       "</div>"
      ],
      "text/plain": [
       "  class height  hair  eyes\n",
       "3     -   tall  dark  blue"
      ]
     },
     "execution_count": 642,
     "metadata": {},
     "output_type": "execute_result"
    }
   ],
   "source": [
    "data.iloc[[3]]"
   ]
  },
  {
   "cell_type": "code",
   "execution_count": 643,
   "metadata": {},
   "outputs": [
    {
     "name": "stdout",
     "output_type": "stream",
     "text": [
      "height\t-\t\n",
      "+\t\n"
     ]
    }
   ],
   "source": [
    "tree.print_tree(tree.root)"
   ]
  },
  {
   "cell_type": "code",
   "execution_count": 644,
   "metadata": {},
   "outputs": [
    {
     "data": {
      "text/plain": [
       "'height'"
      ]
     },
     "execution_count": 644,
     "metadata": {},
     "output_type": "execute_result"
    }
   ],
   "source": [
    "tree.root.instances"
   ]
  },
  {
   "cell_type": "code",
   "execution_count": 645,
   "metadata": {},
   "outputs": [
    {
     "data": {
      "text/plain": [
       "{'short': <__main__.TreeNode at 0x1177c1070>,\n",
       " 'tall': <__main__.TreeNode at 0x1177c18b0>}"
      ]
     },
     "execution_count": 645,
     "metadata": {},
     "output_type": "execute_result"
    }
   ],
   "source": [
    "tree.root.children"
   ]
  },
  {
   "cell_type": "code",
   "execution_count": 646,
   "metadata": {},
   "outputs": [
    {
     "data": {
      "text/html": [
       "<div>\n",
       "<style scoped>\n",
       "    .dataframe tbody tr th:only-of-type {\n",
       "        vertical-align: middle;\n",
       "    }\n",
       "\n",
       "    .dataframe tbody tr th {\n",
       "        vertical-align: top;\n",
       "    }\n",
       "\n",
       "    .dataframe thead th {\n",
       "        text-align: right;\n",
       "    }\n",
       "</style>\n",
       "<table border=\"1\" class=\"dataframe\">\n",
       "  <thead>\n",
       "    <tr style=\"text-align: right;\">\n",
       "      <th></th>\n",
       "      <th>class</th>\n",
       "      <th>hair</th>\n",
       "      <th>eyes</th>\n",
       "    </tr>\n",
       "  </thead>\n",
       "  <tbody>\n",
       "    <tr>\n",
       "      <th>0</th>\n",
       "      <td>-</td>\n",
       "      <td>blond</td>\n",
       "      <td>brown</td>\n",
       "    </tr>\n",
       "  </tbody>\n",
       "</table>\n",
       "</div>"
      ],
      "text/plain": [
       "  class   hair   eyes\n",
       "0     -  blond  brown"
      ]
     },
     "execution_count": 646,
     "metadata": {},
     "output_type": "execute_result"
    }
   ],
   "source": [
    "tree.root.children['short'].instances"
   ]
  },
  {
   "cell_type": "code",
   "execution_count": 647,
   "metadata": {},
   "outputs": [
    {
     "data": {
      "text/html": [
       "<div>\n",
       "<style scoped>\n",
       "    .dataframe tbody tr th:only-of-type {\n",
       "        vertical-align: middle;\n",
       "    }\n",
       "\n",
       "    .dataframe tbody tr th {\n",
       "        vertical-align: top;\n",
       "    }\n",
       "\n",
       "    .dataframe thead th {\n",
       "        text-align: right;\n",
       "    }\n",
       "</style>\n",
       "<table border=\"1\" class=\"dataframe\">\n",
       "  <thead>\n",
       "    <tr style=\"text-align: right;\">\n",
       "      <th></th>\n",
       "      <th>class</th>\n",
       "      <th>hair</th>\n",
       "      <th>eyes</th>\n",
       "    </tr>\n",
       "  </thead>\n",
       "  <tbody>\n",
       "    <tr>\n",
       "      <th>2</th>\n",
       "      <td>+</td>\n",
       "      <td>blond</td>\n",
       "      <td>blue</td>\n",
       "    </tr>\n",
       "  </tbody>\n",
       "</table>\n",
       "</div>"
      ],
      "text/plain": [
       "  class   hair  eyes\n",
       "2     +  blond  blue"
      ]
     },
     "execution_count": 647,
     "metadata": {},
     "output_type": "execute_result"
    }
   ],
   "source": [
    "tree.root.children['tall'].instances"
   ]
  },
  {
   "cell_type": "code",
   "execution_count": 648,
   "metadata": {},
   "outputs": [
    {
     "data": {
      "text/plain": [
       "'-'"
      ]
     },
     "execution_count": 648,
     "metadata": {},
     "output_type": "execute_result"
    }
   ],
   "source": [
    "tree.root.class_labels"
   ]
  },
  {
   "cell_type": "code",
   "execution_count": 649,
   "metadata": {},
   "outputs": [
    {
     "data": {
      "text/html": [
       "<div>\n",
       "<style scoped>\n",
       "    .dataframe tbody tr th:only-of-type {\n",
       "        vertical-align: middle;\n",
       "    }\n",
       "\n",
       "    .dataframe tbody tr th {\n",
       "        vertical-align: top;\n",
       "    }\n",
       "\n",
       "    .dataframe thead th {\n",
       "        text-align: right;\n",
       "    }\n",
       "</style>\n",
       "<table border=\"1\" class=\"dataframe\">\n",
       "  <thead>\n",
       "    <tr style=\"text-align: right;\">\n",
       "      <th></th>\n",
       "      <th>class</th>\n",
       "      <th>height</th>\n",
       "      <th>hair</th>\n",
       "      <th>eyes</th>\n",
       "    </tr>\n",
       "  </thead>\n",
       "  <tbody>\n",
       "    <tr>\n",
       "      <th>0</th>\n",
       "      <td>-</td>\n",
       "      <td>short</td>\n",
       "      <td>blond</td>\n",
       "      <td>brown</td>\n",
       "    </tr>\n",
       "    <tr>\n",
       "      <th>7</th>\n",
       "      <td>+</td>\n",
       "      <td>short</td>\n",
       "      <td>blond</td>\n",
       "      <td>blue</td>\n",
       "    </tr>\n",
       "  </tbody>\n",
       "</table>\n",
       "</div>"
      ],
      "text/plain": [
       "  class height   hair   eyes\n",
       "0     -  short  blond  brown\n",
       "7     +  short  blond   blue"
      ]
     },
     "execution_count": 649,
     "metadata": {},
     "output_type": "execute_result"
    }
   ],
   "source": [
    "pd.concat([data.iloc[[0]], data.iloc[[-1]]])"
   ]
  },
  {
   "cell_type": "code",
   "execution_count": 650,
   "metadata": {},
   "outputs": [
    {
     "data": {
      "text/plain": [
       "'-'"
      ]
     },
     "execution_count": 650,
     "metadata": {},
     "output_type": "execute_result"
    }
   ],
   "source": [
    "data.iloc[0].iloc[0]"
   ]
  },
  {
   "cell_type": "code",
   "execution_count": 651,
   "metadata": {},
   "outputs": [
    {
     "data": {
      "text/html": [
       "<div>\n",
       "<style scoped>\n",
       "    .dataframe tbody tr th:only-of-type {\n",
       "        vertical-align: middle;\n",
       "    }\n",
       "\n",
       "    .dataframe tbody tr th {\n",
       "        vertical-align: top;\n",
       "    }\n",
       "\n",
       "    .dataframe thead th {\n",
       "        text-align: right;\n",
       "    }\n",
       "</style>\n",
       "<table border=\"1\" class=\"dataframe\">\n",
       "  <thead>\n",
       "    <tr style=\"text-align: right;\">\n",
       "      <th></th>\n",
       "      <th>class</th>\n",
       "      <th>hair</th>\n",
       "      <th>eyes</th>\n",
       "    </tr>\n",
       "  </thead>\n",
       "  <tbody>\n",
       "    <tr>\n",
       "      <th>1</th>\n",
       "      <td>-</td>\n",
       "      <td>dark</td>\n",
       "      <td>brown</td>\n",
       "    </tr>\n",
       "    <tr>\n",
       "      <th>2</th>\n",
       "      <td>+</td>\n",
       "      <td>blond</td>\n",
       "      <td>blue</td>\n",
       "    </tr>\n",
       "    <tr>\n",
       "      <th>3</th>\n",
       "      <td>-</td>\n",
       "      <td>dark</td>\n",
       "      <td>blue</td>\n",
       "    </tr>\n",
       "    <tr>\n",
       "      <th>5</th>\n",
       "      <td>+</td>\n",
       "      <td>red</td>\n",
       "      <td>blue</td>\n",
       "    </tr>\n",
       "    <tr>\n",
       "      <th>6</th>\n",
       "      <td>-</td>\n",
       "      <td>blond</td>\n",
       "      <td>brown</td>\n",
       "    </tr>\n",
       "  </tbody>\n",
       "</table>\n",
       "</div>"
      ],
      "text/plain": [
       "  class   hair   eyes\n",
       "1     -   dark  brown\n",
       "2     +  blond   blue\n",
       "3     -   dark   blue\n",
       "5     +    red   blue\n",
       "6     -  blond  brown"
      ]
     },
     "execution_count": 651,
     "metadata": {},
     "output_type": "execute_result"
    }
   ],
   "source": [
    "temp_instances = data.drop('height', axis = 1)\n",
    "temp_instances[data['height'] == 'tall']"
   ]
  },
  {
   "cell_type": "code",
   "execution_count": 652,
   "metadata": {},
   "outputs": [
    {
     "name": "stdout",
     "output_type": "stream",
     "text": [
      "<__main__.TreeNode object at 0x1177e05b0>\n",
      "- -\n",
      "<__main__.TreeNode object at 0x1177e05b0>\n",
      "- +\n",
      "height \n",
      "   class height   hair   eyes\n",
      "0     -  short  blond  brown\n",
      "2     +   tall  blond   blue\n",
      "bad\n",
      "{}\n",
      "{'short': <__main__.TreeNode object at 0x1174e3430>, 'tall': <__main__.TreeNode object at 0x117321850>}\n",
      "it was not a leaf\n",
      "Trying to add the nodes to the children: tall   class height  hair  eyes\n",
      "3     -   tall  dark  blue\n",
      "{}\n",
      "it was a leaf\n",
      "{}\n",
      "bad\n",
      "{}\n",
      "{'short': <__main__.TreeNode object at 0x1174e3430>, 'tall': <__main__.TreeNode object at 0x117321850>}\n",
      "it was not a leaf\n",
      "Trying to add the nodes to the children: short   class height  hair  eyes\n",
      "4     -  short  dark  blue\n",
      "{}\n",
      "it was a leaf\n",
      "{}\n",
      "bad\n",
      "{}\n",
      "{'short': <__main__.TreeNode object at 0x1174e3430>, 'tall': <__main__.TreeNode object at 0x117321850>}\n",
      "it was not a leaf\n",
      "Trying to add the nodes to the children: tall   class height hair  eyes\n",
      "5     +   tall  red  blue\n",
      "{}\n",
      "it was a leaf\n",
      "{}\n",
      "bad\n",
      "{}\n",
      "{'short': <__main__.TreeNode object at 0x1174e3430>, 'tall': <__main__.TreeNode object at 0x117321850>}\n",
      "it was not a leaf\n",
      "Trying to add the nodes to the children: tall   class height   hair   eyes\n",
      "6     -   tall  blond  brown\n",
      "{}\n",
      "it was a leaf\n",
      "{}\n",
      "bad\n",
      "{}\n",
      "{'short': <__main__.TreeNode object at 0x1174e3430>, 'tall': <__main__.TreeNode object at 0x117321850>}\n",
      "it was not a leaf\n",
      "Trying to add the nodes to the children: short   class height   hair  eyes\n",
      "7     +  short  blond  blue\n",
      "{}\n",
      "it was a leaf\n",
      "{}\n"
     ]
    }
   ],
   "source": [
    "tree = IncrementalDTree()\n",
    "\n",
    "for i in range(data.shape[0]):\n",
    "    tree.fit_instance(data.iloc[[i]], data.iloc[i, 0])"
   ]
  },
  {
   "cell_type": "code",
   "execution_count": 653,
   "metadata": {},
   "outputs": [
    {
     "name": "stdout",
     "output_type": "stream",
     "text": [
      "height\t-\t\n",
      "+\t\n"
     ]
    }
   ],
   "source": [
    "tree.print_tree(tree.root)"
   ]
  },
  {
   "cell_type": "code",
   "execution_count": 654,
   "metadata": {},
   "outputs": [
    {
     "data": {
      "text/plain": [
       "'height'"
      ]
     },
     "execution_count": 654,
     "metadata": {},
     "output_type": "execute_result"
    }
   ],
   "source": [
    "tree.root.instances"
   ]
  },
  {
   "cell_type": "code",
   "execution_count": 655,
   "metadata": {},
   "outputs": [
    {
     "data": {
      "text/plain": [
       "{'short': <__main__.TreeNode at 0x1174e3430>,\n",
       " 'tall': <__main__.TreeNode at 0x117321850>}"
      ]
     },
     "execution_count": 655,
     "metadata": {},
     "output_type": "execute_result"
    }
   ],
   "source": [
    "tree.root.children"
   ]
  },
  {
   "cell_type": "code",
   "execution_count": 656,
   "metadata": {},
   "outputs": [
    {
     "data": {
      "text/plain": [
       "{}"
      ]
     },
     "execution_count": 656,
     "metadata": {},
     "output_type": "execute_result"
    }
   ],
   "source": [
    "tree.root.children['short'].children"
   ]
  },
  {
   "cell_type": "code",
   "execution_count": 657,
   "metadata": {},
   "outputs": [
    {
     "data": {
      "text/plain": [
       "{}"
      ]
     },
     "execution_count": 657,
     "metadata": {},
     "output_type": "execute_result"
    }
   ],
   "source": [
    "tree.root.children['tall'].children"
   ]
  },
  {
   "cell_type": "code",
   "execution_count": null,
   "metadata": {},
   "outputs": [],
   "source": []
  },
  {
   "cell_type": "code",
   "execution_count": 658,
   "metadata": {},
   "outputs": [
    {
     "name": "stdout",
     "output_type": "stream",
     "text": [
      "- bad\n",
      "- bad\n",
      "+ bad\n",
      "- bad\n",
      "- bad\n",
      "+ bad\n",
      "- bad\n",
      "+ bad\n"
     ]
    }
   ],
   "source": [
    "for i in range(data.shape[0]):\n",
    "    print(data.iloc[i, 0], tree.predict(data.iloc[[i]], tree.root))"
   ]
  },
  {
   "cell_type": "code",
   "execution_count": 447,
   "metadata": {},
   "outputs": [
    {
     "data": {
      "text/plain": [
       "'-'"
      ]
     },
     "execution_count": 447,
     "metadata": {},
     "output_type": "execute_result"
    }
   ],
   "source": [
    "data['class'].mode().iloc[0]"
   ]
  },
  {
   "cell_type": "code",
   "execution_count": null,
   "metadata": {},
   "outputs": [],
   "source": []
  }
 ],
 "metadata": {
  "interpreter": {
   "hash": "343986f8465ea7f501665066340a6e4a7b639b52c302955116ce941ba04487e2"
  },
  "kernelspec": {
   "display_name": "Python 3.9.7 64-bit ('tensorflow': conda)",
   "language": "python",
   "name": "python3"
  },
  "language_info": {
   "codemirror_mode": {
    "name": "ipython",
    "version": 3
   },
   "file_extension": ".py",
   "mimetype": "text/x-python",
   "name": "python",
   "nbconvert_exporter": "python",
   "pygments_lexer": "ipython3",
   "version": "3.9.7"
  },
  "orig_nbformat": 4
 },
 "nbformat": 4,
 "nbformat_minor": 2
}
